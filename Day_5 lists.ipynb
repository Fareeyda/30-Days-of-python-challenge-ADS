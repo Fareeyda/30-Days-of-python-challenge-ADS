{
 "cells": [
  {
   "attachments": {},
   "cell_type": "markdown",
   "metadata": {},
   "source": [
    "Level 1"
   ]
  },
  {
   "cell_type": "code",
   "execution_count": 1,
   "metadata": {},
   "outputs": [],
   "source": [
    "#Q1\n",
    "empty_list = list()\n"
   ]
  },
  {
   "cell_type": "code",
   "execution_count": 2,
   "metadata": {},
   "outputs": [],
   "source": [
    "#Q2\n",
    "more_than_5 = [1, 2, 3, 4, 5, 6]"
   ]
  },
  {
   "cell_type": "code",
   "execution_count": 3,
   "metadata": {},
   "outputs": [
    {
     "name": "stdout",
     "output_type": "stream",
     "text": [
      "6\n"
     ]
    }
   ],
   "source": [
    "#Q3\n",
    "print(len(more_than_5))\n"
   ]
  },
  {
   "cell_type": "code",
   "execution_count": 4,
   "metadata": {},
   "outputs": [
    {
     "name": "stdout",
     "output_type": "stream",
     "text": [
      "1 4 6\n"
     ]
    }
   ],
   "source": [
    "#Q4\n",
    "print(more_than_5[0], more_than_5[len(more_than_5) // 2], more_than_5[-1])"
   ]
  },
  {
   "cell_type": "code",
   "execution_count": 1,
   "metadata": {},
   "outputs": [],
   "source": [
    "#Q5\n",
    "mixed_list = ['Faridah', 27, 156, 'Married', 'Garki Abuja']\n"
   ]
  },
  {
   "cell_type": "code",
   "execution_count": 6,
   "metadata": {},
   "outputs": [],
   "source": [
    "#Q6\n",
    "it_companies = ['Facebook', 'Google', 'Microsoft', 'Apple', 'IBM', 'Oracle', 'Amazon']"
   ]
  },
  {
   "cell_type": "code",
   "execution_count": 7,
   "metadata": {},
   "outputs": [
    {
     "name": "stdout",
     "output_type": "stream",
     "text": [
      "['Facebook', 'Google', 'Microsoft', 'Apple', 'IBM', 'Oracle', 'Amazon']\n"
     ]
    }
   ],
   "source": [
    "#Q7\n",
    "print(it_companies)"
   ]
  },
  {
   "cell_type": "code",
   "execution_count": 8,
   "metadata": {},
   "outputs": [
    {
     "name": "stdout",
     "output_type": "stream",
     "text": [
      "7\n"
     ]
    }
   ],
   "source": [
    "#Q8\n",
    "print(len(it_companies))"
   ]
  },
  {
   "cell_type": "code",
   "execution_count": 9,
   "metadata": {},
   "outputs": [
    {
     "name": "stdout",
     "output_type": "stream",
     "text": [
      "Facebook Apple Amazon\n"
     ]
    }
   ],
   "source": [
    "#Q9\n",
    "print(it_companies[0], it_companies[len(it_companies) // 2], it_companies[-1])\n"
   ]
  },
  {
   "cell_type": "code",
   "execution_count": 10,
   "metadata": {},
   "outputs": [
    {
     "name": "stdout",
     "output_type": "stream",
     "text": [
      "['Cyphernet', 'Google', 'Microsoft', 'Apple', 'IBM', 'Oracle', 'Amazon']\n"
     ]
    }
   ],
   "source": [
    "#Q10\n",
    "it_companies[0] = 'Cyphernet'\n",
    "print(it_companies)\n"
   ]
  },
  {
   "cell_type": "code",
   "execution_count": 13,
   "metadata": {},
   "outputs": [
    {
     "name": "stdout",
     "output_type": "stream",
     "text": [
      "['Facebook', 'Google', 'Microsoft', 'Apple', 'IBM', 'Oracle', 'Amazon', 'cyphernet']\n"
     ]
    }
   ],
   "source": [
    "#Q11\n",
    "it_companies = ['Facebook', 'Google', 'Microsoft', 'Apple', 'IBM', 'Oracle', 'Amazon']\n",
    "it_companies.append('cyphernet')\n",
    "print(it_companies)\n"
   ]
  },
  {
   "cell_type": "code",
   "execution_count": 15,
   "metadata": {},
   "outputs": [
    {
     "name": "stdout",
     "output_type": "stream",
     "text": [
      "['Facebook', 'Google', 'Microsoft', 'Apple', 'cyphernet', 'IBM', 'Oracle', 'Amazon']\n"
     ]
    }
   ],
   "source": [
    "#Q12\n",
    "it_companies = ['Facebook', 'Google', 'Microsoft', 'Apple', 'IBM', 'Oracle', 'Amazon']\n",
    "it_companies.insert(4, 'cyphernet')\n",
    "print(it_companies)\n",
    "\n"
   ]
  },
  {
   "cell_type": "code",
   "execution_count": 16,
   "metadata": {},
   "outputs": [
    {
     "name": "stdout",
     "output_type": "stream",
     "text": [
      "['FACEBOOK', 'Google', 'Microsoft', 'Apple', 'cyphernet', 'IBM', 'Oracle', 'Amazon']\n"
     ]
    }
   ],
   "source": [
    "#13\n",
    "it_companies[0] = it_companies[0].upper()\n",
    "print(it_companies)\n",
    "\n"
   ]
  },
  {
   "cell_type": "code",
   "execution_count": 17,
   "metadata": {},
   "outputs": [
    {
     "name": "stdout",
     "output_type": "stream",
     "text": [
      "['FACEBOOK', 'Google', 'Microsoft', 'Apple', 'cyphernet', 'IBM', 'Oracle', 'Amazon']\n"
     ]
    }
   ],
   "source": [
    "#Q14\n",
    "it_companies_hash = '#'.join(it_companies)\n",
    "print(it_companies)\n"
   ]
  },
  {
   "cell_type": "code",
   "execution_count": 24,
   "metadata": {},
   "outputs": [
    {
     "name": "stdout",
     "output_type": "stream",
     "text": [
      "True\n"
     ]
    }
   ],
   "source": [
    "#Q15\n",
    "print('Microsoft' in it_companies)\n"
   ]
  },
  {
   "cell_type": "code",
   "execution_count": 3,
   "metadata": {},
   "outputs": [
    {
     "name": "stdout",
     "output_type": "stream",
     "text": [
      "['Amazon', 'Apple', 'Facebook', 'Google', 'IBM', 'Microsoft', 'Oracle']\n"
     ]
    }
   ],
   "source": [
    "#Q16\n",
    "it_companies.sort()\n",
    "print(it_companies)\n"
   ]
  },
  {
   "cell_type": "code",
   "execution_count": 4,
   "metadata": {},
   "outputs": [
    {
     "name": "stdout",
     "output_type": "stream",
     "text": [
      "['Oracle', 'Microsoft', 'IBM', 'Google', 'Facebook', 'Apple', 'Amazon']\n"
     ]
    }
   ],
   "source": [
    "#Q17\n",
    "it_companies.reverse()\n",
    "print(it_companies)\n",
    "\n"
   ]
  },
  {
   "cell_type": "code",
   "execution_count": 18,
   "metadata": {},
   "outputs": [
    {
     "name": "stdout",
     "output_type": "stream",
     "text": [
      "['Apple', 'cyphernet', 'IBM', 'Oracle', 'Amazon']\n"
     ]
    }
   ],
   "source": [
    "#Q18\n",
    "it_companies = it_companies[3:]\n",
    "print(it_companies)\n",
    "\n"
   ]
  },
  {
   "cell_type": "code",
   "execution_count": 20,
   "metadata": {},
   "outputs": [
    {
     "name": "stdout",
     "output_type": "stream",
     "text": [
      "IBM\n"
     ]
    }
   ],
   "source": [
    "#Q19#\n",
    "it_companies = it_companies[- 3]\n",
    "print(it_companies)\n",
    "\n"
   ]
  },
  {
   "cell_type": "code",
   "execution_count": 23,
   "metadata": {},
   "outputs": [
    {
     "name": "stdout",
     "output_type": "stream",
     "text": [
      "[]\n"
     ]
    }
   ],
   "source": [
    "#Q20\n",
    "it_companies =['Facebook', 'Google', 'Microsoft', 'Apple', 'IBM', 'Oracle', 'Amazon'] \n",
    "it_companies=it_companies[-4:-5]\n",
    "print(it_companies)"
   ]
  },
  {
   "cell_type": "code",
   "execution_count": 25,
   "metadata": {},
   "outputs": [
    {
     "name": "stdout",
     "output_type": "stream",
     "text": [
      "['Google', 'Microsoft', 'Apple', 'IBM', 'Oracle', 'Amazon']\n"
     ]
    }
   ],
   "source": [
    "#21\n",
    "it_companies = ['Facebook', 'Google', 'Microsoft', 'Apple', 'IBM', 'Oracle', 'Amazon']\n",
    "it_companies.pop(0)\n",
    "print(it_companies)"
   ]
  },
  {
   "cell_type": "code",
   "execution_count": 26,
   "metadata": {},
   "outputs": [
    {
     "name": "stdout",
     "output_type": "stream",
     "text": [
      "['Facebook', 'Google', 'Microsoft', 'IBM', 'Oracle', 'Amazon']\n"
     ]
    }
   ],
   "source": [
    "#22\n",
    "it_companies =['Facebook', 'Google', 'Microsoft', 'Apple', 'IBM', 'Oracle', 'Amazon']\n",
    "it_companies.pop(3)\n",
    "print(it_companies)\n"
   ]
  },
  {
   "cell_type": "code",
   "execution_count": 27,
   "metadata": {},
   "outputs": [
    {
     "name": "stdout",
     "output_type": "stream",
     "text": [
      "['Facebook', 'Google', 'Microsoft', 'Apple', 'IBM', 'Oracle']\n"
     ]
    }
   ],
   "source": [
    "#23\n",
    "it_companies =['Facebook', 'Google', 'Microsoft', 'Apple', 'IBM', 'Oracle', 'Amazon']\n",
    "it_companies.pop(6)\n",
    "print(it_companies)\n"
   ]
  },
  {
   "cell_type": "code",
   "execution_count": 10,
   "metadata": {},
   "outputs": [
    {
     "name": "stdout",
     "output_type": "stream",
     "text": [
      "[]\n"
     ]
    }
   ],
   "source": [
    "#24\n",
    "it_companies.clear()\n",
    "print(it_companies)"
   ]
  },
  {
   "cell_type": "code",
   "execution_count": 11,
   "metadata": {},
   "outputs": [
    {
     "ename": "NameError",
     "evalue": "name 'it_companies' is not defined",
     "output_type": "error",
     "traceback": [
      "\u001b[1;31m---------------------------------------------------------------------------\u001b[0m",
      "\u001b[1;31mNameError\u001b[0m                                 Traceback (most recent call last)",
      "Cell \u001b[1;32mIn[11], line 3\u001b[0m\n\u001b[0;32m      1\u001b[0m \u001b[39m#25\u001b[39;00m\n\u001b[0;32m      2\u001b[0m \u001b[39mdel\u001b[39;00m it_companies\n\u001b[1;32m----> 3\u001b[0m \u001b[39mprint\u001b[39m(it_companies)\n",
      "\u001b[1;31mNameError\u001b[0m: name 'it_companies' is not defined"
     ]
    }
   ],
   "source": [
    "#25\n",
    "del it_companies\n",
    "print(it_companies)"
   ]
  },
  {
   "cell_type": "code",
   "execution_count": 28,
   "metadata": {},
   "outputs": [
    {
     "name": "stdout",
     "output_type": "stream",
     "text": [
      "['HTML', 'CSS', 'JS', 'React', 'Redux', 'Node', 'Express', 'MongoDB']\n"
     ]
    }
   ],
   "source": [
    "#26\n",
    "front_end = ['HTML', 'CSS', 'JS', 'React', 'Redux']\n",
    "back_end = ['Node', 'Express', 'MongoDB']\n",
    "front_end_and_back_end = front_end + back_end"
   ]
  },
  {
   "cell_type": "code",
   "execution_count": 57,
   "metadata": {},
   "outputs": [
    {
     "name": "stdout",
     "output_type": "stream",
     "text": [
      "['HTML', 'CSS', 'JS', 'React', 'Redux', 'Python', 'SQL', 'Node', 'Express', 'MongoDB']\n"
     ]
    }
   ],
   "source": [
    "#27\n",
    "full_stack = ['HTML', 'CSS', 'JS', 'React', 'Redux', 'Node', 'Express', 'MongoDB']\n",
    "full_stack.insert(5, 'Python')\n",
    "full_stack.insert(6, 'SQL')\n",
    "print(full_stack)"
   ]
  },
  {
   "attachments": {},
   "cell_type": "markdown",
   "metadata": {},
   "source": [
    "Level 2"
   ]
  },
  {
   "cell_type": "code",
   "execution_count": 41,
   "metadata": {},
   "outputs": [
    {
     "name": "stdout",
     "output_type": "stream",
     "text": [
      "[19, 19, 20, 22, 24, 24, 24, 25, 25, 26]\n",
      "26\n",
      "19\n"
     ]
    }
   ],
   "source": [
    "ages = [19, 22, 19, 24, 20, 25, 26, 24, 25, 24]\n",
    "ages.sort()\n",
    "print(ages)\n",
    "# Find the maximum value in the list\n",
    "print(max(ages))\n",
    "print(min(ages))\n",
    "\n"
   ]
  },
  {
   "cell_type": "code",
   "execution_count": 45,
   "metadata": {},
   "outputs": [
    {
     "name": "stdout",
     "output_type": "stream",
     "text": [
      "[19, 22, 19, 24, 20, 25, 26, 24, 25, 24, 'min', 'max']\n"
     ]
    }
   ],
   "source": [
    "ages = [19, 22, 19, 24, 20, 25, 26, 24, 25, 24]\n",
    "ages.append('min')\n",
    "ages.append('max')\n",
    "print(ages)"
   ]
  },
  {
   "cell_type": "code",
   "execution_count": 50,
   "metadata": {},
   "outputs": [
    {
     "name": "stdout",
     "output_type": "stream",
     "text": [
      "Median of list1 =  24.0\n"
     ]
    }
   ],
   "source": [
    "def median(list):\n",
    "    list.sort()\n",
    "    l = len(list)\n",
    "    \n",
    "    mid = (l-1)//2\n",
    "    \n",
    "    if(l%2==0):\n",
    "        return (list[mid] + list[mid+1])/2\n",
    "    else:\n",
    "        return list[mid]\n",
    "        \n",
    "list = [19, 22, 19, 24, 20, 25, 26, 24, 25, 24]\n",
    "print(\"Median of list1 = \", median(list))\n"
   ]
  },
  {
   "cell_type": "code",
   "execution_count": 46,
   "metadata": {},
   "outputs": [
    {
     "name": "stdout",
     "output_type": "stream",
     "text": [
      "sum =  19\n",
      "sum =  22\n",
      "sum =  19\n",
      "sum =  24\n",
      "sum =  20\n",
      "sum =  25\n",
      "sum =  26\n",
      "sum =  24\n",
      "sum =  25\n",
      "sum =  24\n",
      "average =  2.4\n"
     ]
    }
   ],
   "source": [
    "ages =[19, 22, 19, 24, 20, 25, 26, 24, 25, 24]\n",
    "for i in ages:\n",
    "    count = 0\n",
    "    count += i\n",
    "    avg = count/len(ages)\n",
    "    print(\"sum = \", count)\n",
    "print(\"average = \", avg)"
   ]
  },
  {
   "cell_type": "code",
   "execution_count": 68,
   "metadata": {},
   "outputs": [
    {
     "name": "stdout",
     "output_type": "stream",
     "text": [
      "193\n",
      "96.5\n",
      "Lesotho\n"
     ]
    }
   ],
   "source": [
    "\n",
    "\n",
    "countries=['Afghanistan', 'Albania', 'Algeria', 'Andorra',\n",
    "'Angola', 'Antigua and Barbuda', 'Argentina', 'Armenia',\n",
    "'Australia', 'Austria', 'Azerbaijan', 'Bahamas', 'Bahrain',\n",
    "'Bangladesh', 'Barbados', 'Belarus', 'Belgium', 'Belize', \n",
    "'Benin', 'Bhutan', 'Bolivia', 'Bosnia and Herzegovina',\n",
    "'Botswana', 'Brazil', 'Brunei', 'Bulgaria', 'Burkina Faso', \n",
    "'Burundi', 'Cambodia','Cameroon', 'Canada', 'Cape Verde',\n",
    "'Central African Republic', 'Chad', 'Chile', 'China', 'Colombi',\n",
    "'Comoros', 'Congo (Brazzaville)', 'Congo', 'Costa Rica', \"Cote d'Ivoire\",\n",
    "'Croatia', 'Cuba', 'Cyprus', 'Czech Republic', 'Denmark', 'Djibouti', \n",
    "'Dominica', 'Dominican Republic', 'East Timor (Timor Timur)', 'Ecuador',\n",
    "'Egypt', 'El Salvador', 'Equatorial Guinea', 'Eritrea', 'Estonia',\n",
    "'Ethiopia', 'Fiji', 'Finland', 'France', 'Gabon', 'Gambia, The',\n",
    "'Georgia', 'Germany', 'Ghana', 'Greece', 'Grenada', 'Guatemala',\n",
    "'Guinea', 'Guinea-Bissau', 'Guyana', 'Haiti', 'Honduras',\n",
    "'Hungary', 'Iceland', 'India', 'Indonesia', 'Iran', 'Iraq',\n",
    "'Ireland', 'Israel', 'Italy', 'Jamaica', 'Japan', 'Jordan',\n",
    "'Kazakhstan', 'Kenya', 'Kiribati', 'Korea, North', 'Korea, South',\n",
    "'Kuwait','Kyrgyzstan', 'Laos', 'Latvia', 'Lebanon', 'Lesotho',\n",
    "'Liberia', 'Libya', 'Liechtenstein', 'Lithuania', 'Luxembourg',\n",
    "'Macedonia', 'Madagascar', 'Malawi', 'Malaysia', 'Maldives',\n",
    "'Mali', 'Malta', 'Marshall Islands', 'Mauritania', 'Mauritius',\n",
    "'Mexico', 'Micronesia', 'Moldova', 'Monaco', 'Mongolia',\n",
    "'Morocco', 'Mozambique', 'Myanmar', 'Namibia', 'Nauru', 'Nepal',\n",
    "'Netherlands', 'New Zealand', 'Nicaragua', 'Niger', 'Nigeria', \n",
    "'Norway', 'Oman', 'Pakistan', 'Palau', 'Panama', 'Papua New Guinea',\n",
    "'Paraguay', 'Peru', 'Philippines', 'Poland', 'Portugal', 'Qatar',\n",
    "'Romania', 'Russia', 'Rwanda', 'Saint Kitts and Nevis',\n",
    "'Saint Lucia', 'Saint Vincent', 'Samoa', 'San Marino',\n",
    "'Sao Tome and Principe', 'Saudi Arabia', 'Senegal',\n",
    "'Serbia and Montenegro', 'Seychelles', 'Sierra Leone',\n",
    "'Singapore', 'Slovakia', 'Slovenia', 'Solomon Islands', \n",
    "'Somalia', 'South Africa', 'Spain', 'Sri Lanka', 'Sudan',\n",
    "'Suriname', 'Swaziland', 'Sweden', 'Switzerland', 'Syria',\n",
    "'Taiwan', 'Tajikistan', 'Tanzania', 'Thailand', 'Togo',\n",
    "'Tonga', 'Trinidad and Tobago', 'Tunisia', 'Turkey', \n",
    "'Turkmenistan', 'Tuvalu', 'Uganda', 'Ukraine', 'United Arab Emirates',\n",
    "'United Kingdom', 'United States', 'Uruguay', 'Uzbekistan', \n",
    "'Vanuatu', 'Vatican City', 'Venezuela', 'Vietnam', 'Yemen', \n",
    "'Zambia', 'Zimbabwe']\n",
    "\n",
    "len_of_countries = len(countries)\n",
    "print(len_of_countries)\n",
    "print(193/2)\n",
    "print(countries[96])"
   ]
  },
  {
   "cell_type": "code",
   "execution_count": 46,
   "metadata": {},
   "outputs": [
    {
     "name": "stdout",
     "output_type": "stream",
     "text": [
      "China\n",
      "Russia\n",
      "USA\n",
      "['Finland', 'Sweden', 'Norway']\n"
     ]
    }
   ],
   "source": [
    "second_countries = ['China', 'Russia', 'USA', 'Finland', 'Sweden', 'Norway']\n",
    "ch, ru, us, *scandic, = second_countries\n",
    "print(ch)\n",
    "print(ru)\n",
    "print(us)\n",
    "print(scandic)"
   ]
  }
 ],
 "metadata": {
  "kernelspec": {
   "display_name": "Arewads",
   "language": "python",
   "name": "python3"
  },
  "language_info": {
   "codemirror_mode": {
    "name": "ipython",
    "version": 3
   },
   "file_extension": ".py",
   "mimetype": "text/x-python",
   "name": "python",
   "nbconvert_exporter": "python",
   "pygments_lexer": "ipython3",
   "version": "3.10.9"
  },
  "orig_nbformat": 4,
  "vscode": {
   "interpreter": {
    "hash": "ce4ab39d237ab020d1f66999490bb71f6e444211230b10a68dfb7657e2ce5ad4"
   }
  }
 },
 "nbformat": 4,
 "nbformat_minor": 2
}
