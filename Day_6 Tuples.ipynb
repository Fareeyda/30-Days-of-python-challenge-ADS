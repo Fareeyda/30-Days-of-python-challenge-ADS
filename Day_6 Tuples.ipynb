{
 "cells": [
  {
   "attachments": {},
   "cell_type": "markdown",
   "metadata": {},
   "source": [
    "Level 1"
   ]
  },
  {
   "cell_type": "code",
   "execution_count": 1,
   "metadata": {},
   "outputs": [
    {
     "name": "stdout",
     "output_type": "stream",
     "text": [
      "5\n"
     ]
    }
   ],
   "source": [
    "#1\n",
    "empty = tuple()\n",
    "sisters = ('Asmau', 'Fathiyah')\n",
    "brothers = ('Musa', 'Mubarak', 'Muhammad')\n",
    "siblings = sisters + brothers\n",
    "print(len(siblings))\n",
    "family_members = siblings + ('Yusuf', 'Saadatu')\n",
    "\n"
   ]
  },
  {
   "attachments": {},
   "cell_type": "markdown",
   "metadata": {},
   "source": [
    "Level 2"
   ]
  },
  {
   "cell_type": "code",
   "execution_count": 5,
   "metadata": {},
   "outputs": [
    {
     "name": "stdout",
     "output_type": "stream",
     "text": [
      "('Asmau', 'Fathiyah', 'Musa', 'Mubarak', 'Muhammad')\n",
      "Yusuf\n",
      "Saadatu\n"
     ]
    }
   ],
   "source": [
    "#1\n",
    "father = 'Yusuf'\n",
    "mother = 'Saadatu'\n",
    "siblings_father_mother = family_members\n",
    "print(siblings)\n",
    "print(father)\n",
    "print(mother)"
   ]
  },
  {
   "cell_type": "code",
   "execution_count": 6,
   "metadata": {},
   "outputs": [],
   "source": [
    "#2\n",
    "fruits = ('banana', 'apple')\n",
    "vegetables = ('Cabbage', 'Carrot')\n",
    "animal_products = ('Milk', 'Leather')\n",
    "food_stuff_tp = fruits + vegetables + animal_products\n"
   ]
  },
  {
   "cell_type": "code",
   "execution_count": 7,
   "metadata": {},
   "outputs": [],
   "source": [
    "#3\n",
    "food_stuff_lt = list(food_stuff_tp)"
   ]
  },
  {
   "cell_type": "code",
   "execution_count": 11,
   "metadata": {},
   "outputs": [
    {
     "name": "stdout",
     "output_type": "stream",
     "text": [
      "['banana', 'apple', 'Milk', 'Leather']\n",
      "['banana', 'apple', 'Milk']\n",
      "['apple', 'Milk', 'Leather']\n"
     ]
    }
   ],
   "source": [
    "#4\n",
    "food_stuff_lt = food_stuff_lt[:len(food_stuff_lt) // 2] + food_stuff_lt[len(food_stuff_lt) // 2 + 1:]\n",
    "food_stuff_tp = tuple(food_stuff_lt)\n",
    "first_three = food_stuff_lt[:3]\n",
    "last_three = food_stuff_lt[len(food_stuff_lt) - 3:]\n",
    "print(food_stuff_lt)\n",
    "print(first_three)\n",
    "print(last_three)\n",
    "del food_stuff_tp"
   ]
  },
  {
   "cell_type": "code",
   "execution_count": 12,
   "metadata": {},
   "outputs": [
    {
     "name": "stdout",
     "output_type": "stream",
     "text": [
      "False\n",
      "True\n"
     ]
    }
   ],
   "source": [
    "nordic_countries = ('Denmark', 'Finland', 'Iceland', 'Norway', 'Sweden')\n",
    "print('Estonia' in nordic_countries)\n",
    "print('Iceland' in nordic_countries)"
   ]
  }
 ],
 "metadata": {
  "kernelspec": {
   "display_name": "Arewads",
   "language": "python",
   "name": "python3"
  },
  "language_info": {
   "codemirror_mode": {
    "name": "ipython",
    "version": 3
   },
   "file_extension": ".py",
   "mimetype": "text/x-python",
   "name": "python",
   "nbconvert_exporter": "python",
   "pygments_lexer": "ipython3",
   "version": "3.10.9 | packaged by conda-forge | (main, Jan 11 2023, 15:15:40) [MSC v.1916 64 bit (AMD64)]"
  },
  "orig_nbformat": 4,
  "vscode": {
   "interpreter": {
    "hash": "ce4ab39d237ab020d1f66999490bb71f6e444211230b10a68dfb7657e2ce5ad4"
   }
  }
 },
 "nbformat": 4,
 "nbformat_minor": 2
}
