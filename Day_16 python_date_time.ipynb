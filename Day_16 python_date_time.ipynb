{
 "cells": [
  {
   "attachments": {},
   "cell_type": "markdown",
   "metadata": {},
   "source": [
    "Day 16"
   ]
  },
  {
   "cell_type": "code",
   "execution_count": null,
   "metadata": {},
   "outputs": [],
   "source": [
    "from datetime import datetime\n",
    "from datetime import date\n"
   ]
  },
  {
   "cell_type": "code",
   "execution_count": 5,
   "metadata": {},
   "outputs": [
    {
     "name": "stdout",
     "output_type": "stream",
     "text": [
      "2023-02-20 15:46:26.032304\n",
      "2023-02-20 15:46:26.032304\n",
      "20 2 2023 15 46\n",
      "timestamp 1676904386.032304\n",
      "20/2/2023, 15:46\n",
      "20/2/2023, 15:46\n"
     ]
    }
   ],
   "source": [
    "#1\n",
    "from datetime import datetime\n",
    "now = datetime.now()\n",
    "print(now)                      # 2023-02-08 23:34:46.549883\n",
    "day = now.day                   # 06\n",
    "month = now.month               # 02\n",
    "year = now.year                 # 2023\n",
    "hour = now.hour                 # 23\n",
    "print(now)                      # 2023-02-08 07:34:46.549883\n",
    "day = now.day                   # 20\n",
    "month = now.month               # 7\n",
    "year = now.year                 # 2023\n",
    "hour = now.hour                 # 7\n",
    "minute = now.minute             # 38\n",
    "second = now.second\n",
    "timestamp = now.timestamp()\n",
    "print(day, month, year, hour, minute)\n",
    "print('timestamp', timestamp)\n",
    "print(f'{day}/{month}/{year}, {hour}:{minute}')  # 4/12/2019, 23:38\n",
    "print(f'{day}/{month}/{year}, {hour}:{minute}')  # 8/7/2021, 7:38"
   ]
  },
  {
   "cell_type": "code",
   "execution_count": 6,
   "metadata": {},
   "outputs": [
    {
     "name": "stdout",
     "output_type": "stream",
     "text": [
      "02/20/2023, 15:46:26\n"
     ]
    }
   ],
   "source": [
    "#2\n",
    "t = now.strftime(\"%m/%d/%Y, %H:%M:%S\")\n",
    "print(t)"
   ]
  },
  {
   "cell_type": "code",
   "execution_count": 8,
   "metadata": {},
   "outputs": [
    {
     "name": "stdout",
     "output_type": "stream",
     "text": [
      "date_string = 5 December, 2019\n",
      "date_object = 2019-12-05 00:00:00\n"
     ]
    }
   ],
   "source": [
    "#3\n",
    "date_string = \"5 December, 2019\"\n",
    "print(\"date_string =\", date_string)\n",
    "date_object = datetime.strptime(date_string, \"%d %B, %Y\")\n",
    "print(\"date_object =\", date_object)"
   ]
  },
  {
   "cell_type": "code",
   "execution_count": null,
   "metadata": {},
   "outputs": [],
   "source": [
    "#4\n",
    "t_day = date(2023,2,20)\n",
    "new_year = date(2024,1,1)\n",
    "time_to_new_year = new_year - t_day\n",
    "print(f'Time to new year is {time_to_new_year} ')"
   ]
  },
  {
   "cell_type": "code",
   "execution_count": 26,
   "metadata": {},
   "outputs": [
    {
     "name": "stdout",
     "output_type": "stream",
     "text": [
      "Difference: 19408 days, 0:05:00.518000\n",
      "Days: 19408\n",
      "Microseconds: 518000\n",
      "Seconds: 300\n"
     ]
    }
   ],
   "source": [
    "#5\n",
    "from datetime import timedelta\n",
    "import datetime\n",
    "datetimeFormat = '%Y-%m-%d %H:%M:%S.%f'\n",
    "date1 = '2023-02-20 10:01:28.585'\n",
    "date2 = '1970-01-01 09:56:28.067'\n",
    "diff = datetime.datetime.strptime(date1, datetimeFormat)\\\n",
    "    - datetime.datetime.strptime(date2, datetimeFormat)\n",
    " \n",
    "print(\"Difference:\", diff)\n",
    "print(\"Days:\", diff.days)\n",
    "print(\"Microseconds:\", diff.microseconds)\n",
    "print(\"Seconds:\", diff.seconds)"
   ]
  }
 ],
 "metadata": {
  "kernelspec": {
   "display_name": "Arewads",
   "language": "python",
   "name": "python3"
  },
  "language_info": {
   "codemirror_mode": {
    "name": "ipython",
    "version": 3
   },
   "file_extension": ".py",
   "mimetype": "text/x-python",
   "name": "python",
   "nbconvert_exporter": "python",
   "pygments_lexer": "ipython3",
   "version": "3.10.9"
  },
  "orig_nbformat": 4,
  "vscode": {
   "interpreter": {
    "hash": "ce4ab39d237ab020d1f66999490bb71f6e444211230b10a68dfb7657e2ce5ad4"
   }
  }
 },
 "nbformat": 4,
 "nbformat_minor": 2
}
