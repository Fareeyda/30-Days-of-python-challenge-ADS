{
 "cells": [
  {
   "attachments": {},
   "cell_type": "markdown",
   "metadata": {},
   "source": [
    "# Day 3"
   ]
  },
  {
   "cell_type": "code",
   "execution_count": 1,
   "metadata": {},
   "outputs": [],
   "source": [
    "#Q1\n",
    "age = 27"
   ]
  },
  {
   "cell_type": "code",
   "execution_count": 2,
   "metadata": {},
   "outputs": [],
   "source": [
    "#Q2\n",
    "height = float(156)"
   ]
  },
  {
   "cell_type": "code",
   "execution_count": 3,
   "metadata": {},
   "outputs": [],
   "source": [
    "#Q3\n",
    "C_number = complex(5, 9)"
   ]
  },
  {
   "cell_type": "code",
   "execution_count": 1,
   "metadata": {},
   "outputs": [
    {
     "name": "stdout",
     "output_type": "stream",
     "text": [
      "area of triangle : 100.0\n"
     ]
    }
   ],
   "source": [
    "#Q4\n",
    "base = 10\n",
    "height = 20\n",
    "area_of_triangle = 0.5 * base * height\n",
    "print('area of triangle :', area_of_triangle)\n"
   ]
  },
  {
   "cell_type": "code",
   "execution_count": 2,
   "metadata": {},
   "outputs": [
    {
     "name": "stdout",
     "output_type": "stream",
     "text": [
      "perimeter of a triangle: 12\n"
     ]
    }
   ],
   "source": [
    "#Q5\n",
    "a = 5\n",
    "b = 4\n",
    "c = 3\n",
    "perimeter_of_triangle = a + b + c\n",
    "print('perimeter of a triangle:', perimeter_of_triangle)\n"
   ]
  },
  {
   "cell_type": "code",
   "execution_count": 19,
   "metadata": {},
   "outputs": [
    {
     "name": "stdout",
     "output_type": "stream",
     "text": [
      "area: 48\n",
      "perimeter: 32\n"
     ]
    }
   ],
   "source": [
    "#Q6\n",
    "length=int( input ('Enter length:'))\n",
    "width= int(input ('Enter width:'))\n",
    "print('area:', length * width)\n",
    "print('perimeter:', 2 * (length + width))"
   ]
  },
  {
   "cell_type": "code",
   "execution_count": 20,
   "metadata": {},
   "outputs": [
    {
     "name": "stdout",
     "output_type": "stream",
     "text": [
      "area:  6358.500000000001\n",
      "circumference 282.6\n"
     ]
    }
   ],
   "source": [
    "#Q7\n",
    "radius = int(input(' Enter radius:' ))\n",
    "print ('area: ', 3.14 * radius * radius)\n",
    "print('circumference', 2 * 3.14 * radius)"
   ]
  },
  {
   "cell_type": "code",
   "execution_count": 21,
   "metadata": {},
   "outputs": [
    {
     "name": "stdout",
     "output_type": "stream",
     "text": [
      "x intercept:  1\n",
      "y intercept:  -2\n",
      "slope:  2\n"
     ]
    }
   ],
   "source": [
    "#Q8\n",
    "# y = 2x-2\n",
    "print(\"x intercept: \", 1)\n",
    "print(\"y intercept: \", -2)\n",
    "print(\"slope: \", 2)\n"
   ]
  },
  {
   "cell_type": "code",
   "execution_count": 23,
   "metadata": {},
   "outputs": [
    {
     "name": "stdout",
     "output_type": "stream",
     "text": [
      "distance: \n",
      "8.94427190999916\n",
      "slope:\n",
      "2.0\n"
     ]
    }
   ],
   "source": [
    "#Q9\n",
    "# M = Y2-Y1 / X2-X1\n",
    "#Points/values is (2,2) and (6,10)\n",
    "X1 = 2 \n",
    "X2 = 6\n",
    "Y1 = 2\n",
    "Y2 = 10\n",
    "print('distance: ')\n",
    "print((((X1 - X2) ** 2 + (Y1 - Y2 ) ** 2)  ** 0.5))\n",
    "print('slope:')\n",
    "print((Y2 - Y1) / (X2 - X1))"
   ]
  },
  {
   "cell_type": "code",
   "execution_count": 24,
   "metadata": {},
   "outputs": [
    {
     "name": "stdout",
     "output_type": "stream",
     "text": [
      "2.0\n"
     ]
    }
   ],
   "source": [
    "#Q10\n",
    "print(2 if 2 < (Y2 - Y1) / (X2 - X1) else (Y2 - Y1 ) / (X2 - X1))"
   ]
  },
  {
   "cell_type": "code",
   "execution_count": 25,
   "metadata": {},
   "outputs": [
    {
     "name": "stdout",
     "output_type": "stream",
     "text": [
      "9\n",
      "3 -3 is where y is 0\n",
      "16\n",
      "3 -3 is where y is 0\n",
      "25\n",
      "3 -3 is where y is 0\n",
      "36\n",
      "3 -3 is where y is 0\n",
      "49\n",
      "3 -3 is where y is 0\n",
      "64\n",
      "3 -3 is where y is 0\n",
      "81\n",
      "3 -3 is where y is 0\n",
      "100\n",
      "3 -3 is where y is 0\n",
      "121\n",
      "3 -3 is where y is 0\n",
      "144\n",
      "3 -3 is where y is 0\n"
     ]
    }
   ],
   "source": [
    "#Q11\n",
    "for x in range(0 , 10):\n",
    "    print(x ** 2 + 6 * x + 9)\n",
    "    print(3, -3, \"is where y is 0\")"
   ]
  },
  {
   "cell_type": "code",
   "execution_count": 26,
   "metadata": {},
   "outputs": [
    {
     "name": "stdout",
     "output_type": "stream",
     "text": [
      "False\n"
     ]
    }
   ],
   "source": [
    "#Q12\n",
    "print(not len('python') == len('dragon'))"
   ]
  },
  {
   "cell_type": "code",
   "execution_count": 27,
   "metadata": {},
   "outputs": [
    {
     "name": "stdout",
     "output_type": "stream",
     "text": [
      "True\n"
     ]
    }
   ],
   "source": [
    "#Q13\n",
    "print('on' in 'python' and 'on' in 'dragon')"
   ]
  },
  {
   "cell_type": "code",
   "execution_count": 28,
   "metadata": {},
   "outputs": [
    {
     "name": "stdout",
     "output_type": "stream",
     "text": [
      "True\n"
     ]
    }
   ],
   "source": [
    "#Q14\n",
    "print('jargon' in \"i hope this course is not full of jargon\")"
   ]
  },
  {
   "cell_type": "code",
   "execution_count": 29,
   "metadata": {},
   "outputs": [
    {
     "name": "stdout",
     "output_type": "stream",
     "text": [
      "False\n"
     ]
    }
   ],
   "source": [
    "#Q15\n",
    "print('on' not in 'python' and 'on' in 'dragon')"
   ]
  },
  {
   "cell_type": "code",
   "execution_count": 30,
   "metadata": {},
   "outputs": [
    {
     "name": "stdout",
     "output_type": "stream",
     "text": [
      "6.0\n"
     ]
    }
   ],
   "source": [
    "#16\n",
    "print(str(float(len('python'))))"
   ]
  },
  {
   "cell_type": "code",
   "execution_count": 31,
   "metadata": {},
   "outputs": [
    {
     "name": "stdout",
     "output_type": "stream",
     "text": [
      "Even \n"
     ]
    }
   ],
   "source": [
    "#Q17\n",
    "number = int(input('Enter number:'))\n",
    "print(\"Even \" if number % 2 == 0 else \"odd\")"
   ]
  },
  {
   "cell_type": "code",
   "execution_count": null,
   "metadata": {},
   "outputs": [],
   "source": [
    "#18\n",
    "number = int(input('Enter number:'))\n",
    "print(\"Even \" if number % 2 == 0 else \"odd\")"
   ]
  },
  {
   "cell_type": "code",
   "execution_count": 32,
   "metadata": {},
   "outputs": [
    {
     "name": "stdout",
     "output_type": "stream",
     "text": [
      "False\n"
     ]
    }
   ],
   "source": [
    "#Q19\n",
    "print(type('10') == type(10))"
   ]
  },
  {
   "cell_type": "code",
   "execution_count": null,
   "metadata": {},
   "outputs": [],
   "source": [
    "#Q20\n",
    "print(int('9.8') == 10)"
   ]
  },
  {
   "cell_type": "code",
   "execution_count": 33,
   "metadata": {},
   "outputs": [
    {
     "name": "stdout",
     "output_type": "stream",
     "text": [
      "weekly Earning: 1120\n"
     ]
    }
   ],
   "source": [
    "#Q21\n",
    "hours = int(input('Enter hours:'))\n",
    "rph = int(input('Enter rate per hour:'))\n",
    "print(\"weekly Earning:\", hours * rph)"
   ]
  },
  {
   "cell_type": "code",
   "execution_count": 39,
   "metadata": {},
   "outputs": [
    {
     "name": "stdout",
     "output_type": "stream",
     "text": [
      "51088320000\n"
     ]
    }
   ],
   "source": [
    "#Q22\n",
    "years = int(input('Enter years:'))\n",
    "print(years * 365 * 24 * 60 * 60 * 60)"
   ]
  },
  {
   "cell_type": "code",
   "execution_count": 37,
   "metadata": {},
   "outputs": [
    {
     "name": "stdout",
     "output_type": "stream",
     "text": [
      "1 1 1 1\n",
      "1 2 4 8\n",
      "1 3 9 27\n",
      "1 4 16 64\n",
      "1 5 25 125\n"
     ]
    }
   ],
   "source": [
    "#Q23\n",
    "for i in range(1, 6):\n",
    "    print(i ** 0, i ** 1, i ** 2, i ** 3)"
   ]
  }
 ],
 "metadata": {
  "kernelspec": {
   "display_name": "Arewads",
   "language": "python",
   "name": "python3"
  },
  "language_info": {
   "codemirror_mode": {
    "name": "ipython",
    "version": 3
   },
   "file_extension": ".py",
   "mimetype": "text/x-python",
   "name": "python",
   "nbconvert_exporter": "python",
   "pygments_lexer": "ipython3",
   "version": "3.10.9 | packaged by conda-forge | (main, Jan 11 2023, 15:15:40) [MSC v.1916 64 bit (AMD64)]"
  },
  "orig_nbformat": 4,
  "vscode": {
   "interpreter": {
    "hash": "ce4ab39d237ab020d1f66999490bb71f6e444211230b10a68dfb7657e2ce5ad4"
   }
  }
 },
 "nbformat": 4,
 "nbformat_minor": 2
}
