{
 "cells": [
  {
   "attachments": {},
   "cell_type": "markdown",
   "metadata": {},
   "source": [
    "Day 12"
   ]
  },
  {
   "attachments": {},
   "cell_type": "markdown",
   "metadata": {},
   "source": [
    "level 1"
   ]
  },
  {
   "cell_type": "code",
   "execution_count": null,
   "metadata": {},
   "outputs": [],
   "source": [
    "import random\n",
    "import string\n",
    "\n",
    "chars = 'abcdefghijklmnopqrstuvwxyz1234567890'\n",
    "char_list = []\n",
    "char_list[:0] = chars"
   ]
  },
  {
   "cell_type": "code",
   "execution_count": 134,
   "metadata": {},
   "outputs": [
    {
     "name": "stdout",
     "output_type": "stream",
     "text": [
      "eee3e1\n"
     ]
    }
   ],
   "source": [
    "#1\n",
    "import random \n",
    "def random_user_id():\n",
    "    identity = ''\n",
    "    for _ in range(6):\n",
    "        identity += random.choice(char_list)\n",
    "    return identity\n",
    "    #And then, you can use the function as follows:\n",
    "print(random_user_id())\n",
    "\n"
   ]
  },
  {
   "cell_type": "code",
   "execution_count": 23,
   "metadata": {},
   "outputs": [],
   "source": [
    "#2\n",
    "def user_id_gen_by_user():\n",
    "    charsize = int(input('Enter the number of characters for the ID: '))\n",
    "    charlimit = int(input('Enter the number of IDs to generate: '))\n",
    "    for _ in range(charlimit):\n",
    "        identity = ''.join([random.choice(char_list) for _ in range(charsize)])\n",
    "        print(identity)\n",
    "\n",
    "\n",
    "\n",
    "    \n",
    "        \n"
   ]
  },
  {
   "cell_type": "code",
   "execution_count": 161,
   "metadata": {},
   "outputs": [
    {
     "name": "stdout",
     "output_type": "stream",
     "text": [
      "rgb(150,200,210)\n"
     ]
    }
   ],
   "source": [
    "#3\n",
    "def rgb_color_gen():\n",
    "    r = str(random.randint(0, 255))\n",
    "    g = str(random.randint(0, 255))\n",
    "    b = str(random.randint(0, 255))\n",
    "    return \"rgb(\" + r + \",\" + g + \",\" + b + \")\"\n",
    "print(rgb_color_gen())\n"
   ]
  },
  {
   "attachments": {},
   "cell_type": "markdown",
   "metadata": {},
   "source": [
    "level 2"
   ]
  },
  {
   "cell_type": "code",
   "execution_count": 163,
   "metadata": {},
   "outputs": [
    {
     "name": "stdout",
     "output_type": "stream",
     "text": [
      "['#4892a3', '#73ddb8', '#8ba88a']\n"
     ]
    }
   ],
   "source": [
    "#1\n",
    "def list_of_hexa_colors(many=0):\n",
    "    if many == 0:\n",
    "        many = random.randint(1, 10)\n",
    "    hexas = \"1,2,3,4,5,6,7,8,9,0,a,b,c,d,e,f\".split(\",\")\n",
    "    hexCodes = []\n",
    "    for _ in range(many):\n",
    "        hexCodes.append(\"#\" + ''.join([random.choice(hexas) for _ in range(6)]))\n",
    "    return hexCodes\n",
    "print(list_of_hexa_colors())"
   ]
  },
  {
   "cell_type": "code",
   "execution_count": 8,
   "metadata": {},
   "outputs": [],
   "source": [
    "#2\n",
    "def list_of_rgb_colors(many=0):\n",
    "    if many == 0:\n",
    "        many = random.randint(1, 10)\n",
    "    rgbs = []\n",
    "    for _ in range(many):\n",
    "        rgbs.append(rgb_color_gen())\n",
    "    return rgbs"
   ]
  },
  {
   "cell_type": "code",
   "execution_count": 24,
   "metadata": {},
   "outputs": [],
   "source": [
    "#3\n",
    "def generate_colors(type_of_col, many):\n",
    "    if type_of_col == 'hexa':\n",
    "        return list_of_hexa_colors(many)\n",
    "    elif type_of_col == 'rgb':\n",
    "        return list_of_rgb_colors(many)\n",
    "    else:\n",
    "        return \"Invalid Input\""
   ]
  },
  {
   "attachments": {},
   "cell_type": "markdown",
   "metadata": {},
   "source": [
    "level 3"
   ]
  },
  {
   "cell_type": "code",
   "execution_count": 17,
   "metadata": {},
   "outputs": [],
   "source": [
    "#1\n",
    "def shuffled_list(list):\n",
    "    random.shuffle(list)\n",
    "    return list\n"
   ]
  },
  {
   "cell_type": "code",
   "execution_count": 7,
   "metadata": {},
   "outputs": [
    {
     "name": "stdout",
     "output_type": "stream",
     "text": [
      "[9, 3, 8, 4, 6, 7, 0, 2]\n"
     ]
    }
   ],
   "source": [
    "#2\n",
    "import random\n",
    "def seven_random():\n",
    "    array = []\n",
    "    length = -1\n",
    "    while length <= 7:\n",
    "        num = random.randint(0, 9)\n",
    "        if num not in array:\n",
    "            array.append(num)\n",
    "            length = len(array)\n",
    "    return array\n",
    "print(seven_random())"
   ]
  }
 ],
 "metadata": {
  "kernelspec": {
   "display_name": "Arewads",
   "language": "python",
   "name": "python3"
  },
  "language_info": {
   "codemirror_mode": {
    "name": "ipython",
    "version": 3
   },
   "file_extension": ".py",
   "mimetype": "text/x-python",
   "name": "python",
   "nbconvert_exporter": "python",
   "pygments_lexer": "ipython3",
   "version": "3.10.9"
  },
  "orig_nbformat": 4,
  "vscode": {
   "interpreter": {
    "hash": "ce4ab39d237ab020d1f66999490bb71f6e444211230b10a68dfb7657e2ce5ad4"
   }
  }
 },
 "nbformat": 4,
 "nbformat_minor": 2
}
