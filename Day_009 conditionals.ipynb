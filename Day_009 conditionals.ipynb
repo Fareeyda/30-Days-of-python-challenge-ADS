{
 "cells": [
  {
   "attachments": {},
   "cell_type": "markdown",
   "metadata": {},
   "source": [
    "Level 1"
   ]
  },
  {
   "cell_type": "code",
   "execution_count": 1,
   "metadata": {},
   "outputs": [
    {
     "name": "stdout",
     "output_type": "stream",
     "text": [
      "You are old enough to drive.\n"
     ]
    }
   ],
   "source": [
    "#1\n",
    "age = int(input('Enter age: '))\n",
    "if age >= 18:\n",
    "    print(\"You are old enough to drive.\")\n",
    "else:\n",
    "    print(\"You need to wait\", 18 - age, \"years.\")"
   ]
  },
  {
   "cell_type": "code",
   "execution_count": 3,
   "metadata": {},
   "outputs": [
    {
     "name": "stdout",
     "output_type": "stream",
     "text": [
      "I am 3 years older than you\n"
     ]
    }
   ],
   "source": [
    "#2\n",
    "my_age = 30\n",
    "\n",
    "if age == my_age:\n",
    "    print(\"We are the same age\")\n",
    "elif age > my_age:\n",
    "    print(\"You are\", age - my_age, \"years older than me\")\n",
    "else:\n",
    "    print(\"I am\", my_age - age, \"years older than you\")\n"
   ]
  },
  {
   "cell_type": "code",
   "execution_count": 4,
   "metadata": {},
   "outputs": [
    {
     "name": "stdout",
     "output_type": "stream",
     "text": [
      "4 is greater than 3\n"
     ]
    }
   ],
   "source": [
    "#3\n",
    "a = int(input(\"Enter number: \"))\n",
    "b = int(input(\"Enter number: \"))\n",
    "if a > b:\n",
    "    print(a, \"is greater than\", b)\n",
    "elif a < b:\n",
    "    print(a, \"is lesser than\", b)\n",
    "else:\n",
    "    print(\"Both numbers are equal\")"
   ]
  },
  {
   "attachments": {},
   "cell_type": "markdown",
   "metadata": {},
   "source": [
    "Level 2"
   ]
  },
  {
   "cell_type": "code",
   "execution_count": 9,
   "metadata": {},
   "outputs": [
    {
     "name": "stdout",
     "output_type": "stream",
     "text": [
      "Grade: A\n"
     ]
    }
   ],
   "source": [
    "score = int(input(\"Enter score: \"))\n",
    "grades = {}\n",
    "for i in range(90, 100):\n",
    "    grades[i] = 'A'\n",
    "for i in range(70, 89):\n",
    "    grades[i] = 'B'\n",
    "for i in range(60, 69):\n",
    "    grades[i] = 'C'\n",
    "for i in range(50, 59):\n",
    "    grades[i] = 'D'\n",
    "for i in range(0, 49):\n",
    "    grades[i] = 'F'\n",
    "\n",
    "print(\"Grade:\", grades[score])"
   ]
  },
  {
   "cell_type": "code",
   "execution_count": 12,
   "metadata": {},
   "outputs": [
    {
     "name": "stdout",
     "output_type": "stream",
     "text": [
      "Autumn\n",
      "Summer\n"
     ]
    }
   ],
   "source": [
    "#2\n",
    "month = input('Enter month: ').title()\n",
    "if month in [\"September\", \"October\", \"November\"]:\n",
    "    print(\"Autumn\")\n",
    "if month in [\"December\", \"January\", \"February\"]:\n",
    "    print(\"Winter\")\n",
    "if month in [\"March\", \"April\", \"May\"]:\n",
    "    print(\"Spring\")\n",
    "else:\n",
    "    print(\"Summer\")"
   ]
  },
  {
   "cell_type": "code",
   "execution_count": 13,
   "metadata": {},
   "outputs": [
    {
     "name": "stdout",
     "output_type": "stream",
     "text": [
      "None\n",
      "['banana', 'orange', 'mango', 'lemon', 'cherry']\n"
     ]
    }
   ],
   "source": [
    "#3\n",
    "fruits = ['banana', 'orange', 'mango', 'lemon']\n",
    "fruit = input('Enter fruit: ')\n",
    "print('That fruit already exists in the list' if fruit in fruits else fruits.append(fruit))\n",
    "print(fruits)"
   ]
  },
  {
   "cell_type": "code",
   "execution_count": 16,
   "metadata": {},
   "outputs": [
    {
     "name": "stdout",
     "output_type": "stream",
     "text": [
      "Node\n",
      "True\n",
      "Unknown Title\n",
      "Faridah Yusuf lives in Nigeria . She is married\n"
     ]
    }
   ],
   "source": [
    "#3\n",
    "person = {\n",
    "    'first_name': 'Faridah',\n",
    "    'last_name': 'Yusuf',\n",
    "    'age': 27,\n",
    "    'country': 'Nigeria',\n",
    "    'is_marred': True,\n",
    "    'skills': ['JavaScript', 'React', 'Node', 'MongoDB', 'Python'],\n",
    "    'address': {\n",
    "        'street': 'Space street',\n",
    "        'zipcode': '02210'\n",
    "    }\n",
    "}\n",
    "if person['skills']:\n",
    "    print(person['skills'][len(person['skills']) // 2])\n",
    "    print(\"Python\" in person['skills'])\n",
    "    if ['Javascript', 'React'] == person['skills']:\n",
    "        print('Front End Developer')\n",
    "    elif ['Node', 'MongoDB', 'React'] == person['skills']:\n",
    "        print('Full Stack Developer')\n",
    "    else:\n",
    "        print(\"Unknown Title\")\n",
    "\n",
    "if person['is_marred']:\n",
    "    print(person['first_name'], person['last_name'], \"lives in\", person['country'], \". She is married\")\n",
    "else:\n",
    "    print(person['first_name'], person['last_name'], \"lives in\", person['country'], \". She is not married\")"
   ]
  }
 ],
 "metadata": {
  "kernelspec": {
   "display_name": "Arewads",
   "language": "python",
   "name": "python3"
  },
  "language_info": {
   "codemirror_mode": {
    "name": "ipython",
    "version": 3
   },
   "file_extension": ".py",
   "mimetype": "text/x-python",
   "name": "python",
   "nbconvert_exporter": "python",
   "pygments_lexer": "ipython3",
   "version": "3.10.9 | packaged by conda-forge | (main, Jan 11 2023, 15:15:40) [MSC v.1916 64 bit (AMD64)]"
  },
  "orig_nbformat": 4,
  "vscode": {
   "interpreter": {
    "hash": "ce4ab39d237ab020d1f66999490bb71f6e444211230b10a68dfb7657e2ce5ad4"
   }
  }
 },
 "nbformat": 4,
 "nbformat_minor": 2
}
