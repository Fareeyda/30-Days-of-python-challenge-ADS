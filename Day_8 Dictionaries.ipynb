{
 "cells": [
  {
   "cell_type": "code",
   "execution_count": 1,
   "metadata": {},
   "outputs": [],
   "source": [
    "#1\n",
    "dog = dict()"
   ]
  },
  {
   "cell_type": "code",
   "execution_count": 1,
   "metadata": {},
   "outputs": [
    {
     "name": "stdout",
     "output_type": "stream",
     "text": [
      "{'name': 'Bruno', 'color': 'Black', 'breed': 'pug', 'legs': 4, 'age': 4}\n"
     ]
    }
   ],
   "source": [
    "#2\n",
    "dog = {\"name\": \"Bruno\", \"color\": \"Black\", \"breed\": \"pug\", \"legs\": 4, \"age\": 4}\n",
    "print(dog)"
   ]
  },
  {
   "cell_type": "code",
   "execution_count": 3,
   "metadata": {},
   "outputs": [],
   "source": [
    "#3\n",
    "student_dictionary = {\n",
    "    \"first_name\": \"Faridah\",\n",
    "    \"last_name\": \"Yusuf\",\n",
    "    \"gender\": \"F\",\n",
    "    \"age\": 27,\n",
    "    \"marital_status\": \"Married\",\n",
    "    \"skills\": [\"Hacking\"],\n",
    "    \"country\": \"Nigeria\",\n",
    "    \"city\": \"Garki Abuja\",\n",
    "    \"address\": \" F.C.D.A quarters Area 3\",\n",
    "}"
   ]
  },
  {
   "cell_type": "code",
   "execution_count": 4,
   "metadata": {},
   "outputs": [
    {
     "name": "stdout",
     "output_type": "stream",
     "text": [
      "9\n"
     ]
    }
   ],
   "source": [
    "#4\n",
    "print(len(student_dictionary))"
   ]
  },
  {
   "cell_type": "code",
   "execution_count": 6,
   "metadata": {},
   "outputs": [
    {
     "name": "stdout",
     "output_type": "stream",
     "text": [
      "['Hacking']\n",
      "<class 'list'>\n"
     ]
    }
   ],
   "source": [
    "#5\n",
    "print(student_dictionary[\"skills\"])\n",
    "print(type(student_dictionary[\"skills\"]))"
   ]
  },
  {
   "cell_type": "code",
   "execution_count": 10,
   "metadata": {},
   "outputs": [
    {
     "name": "stdout",
     "output_type": "stream",
     "text": [
      "['Hacking', 'Reading']\n"
     ]
    }
   ],
   "source": [
    "student_dictionary = {\n",
    "    \"first_name\": \"Faridah\",\n",
    "    \"last_name\": \"Yusuf\",\n",
    "    \"gender\": \"F\",\n",
    "    \"age\": 27,\n",
    "    \"marital_status\": \"Married\",\n",
    "    \"skills\": [\"Hacking\"],\n",
    "    \"country\": \"Nigeria\",\n",
    "    \"city\": \"Garki Abuja\",\n",
    "    \"address\": \" F.C.D.A quarters Area 3\",\n",
    "}\n",
    "student_dictionary[\"skills\"].append(\"Reading\")\n",
    "print(student_dictionary[\"skills\"])"
   ]
  },
  {
   "cell_type": "code",
   "execution_count": 11,
   "metadata": {},
   "outputs": [
    {
     "name": "stdout",
     "output_type": "stream",
     "text": [
      "<class 'list'>\n"
     ]
    }
   ],
   "source": [
    "#7\n",
    "student_dictionary = {\n",
    "    \"first_name\": \"Faridah\",\n",
    "    \"last_name\": \"Yusuf\",\n",
    "    \"gender\": \"F\",\n",
    "    \"age\": 27,\n",
    "    \"marital_status\": \"Married\",\n",
    "    \"skills\": [\"Hacking\"],\n",
    "    \"country\": \"Nigeria\",\n",
    "    \"city\": \"Garki Abuja\",\n",
    "    \"address\": \" F.C.D.A quarters Area 3\",\n",
    "}\n",
    "list_keys = list(student_dictionary.keys())\n",
    "print(list)"
   ]
  },
  {
   "cell_type": "code",
   "execution_count": 9,
   "metadata": {},
   "outputs": [],
   "source": [
    "#8\n",
    "list_keys = list(student_dictionary.keys())"
   ]
  },
  {
   "cell_type": "code",
   "execution_count": 12,
   "metadata": {},
   "outputs": [
    {
     "name": "stdout",
     "output_type": "stream",
     "text": [
      "[('first_name', 'Faridah'), ('last_name', 'Yusuf'), ('gender', 'F'), ('age', 27), ('marital_status', 'Married'), ('skills', ['Hacking']), ('country', 'Nigeria'), ('city', 'Garki Abuja'), ('address', ' F.C.D.A quarters Area 3')]\n"
     ]
    }
   ],
   "source": [
    "#9\n",
    "list_of_tuples = [(k, v) for k, v in student_dictionary.items()]\n",
    "print(list_of_tuples)"
   ]
  },
  {
   "cell_type": "code",
   "execution_count": 17,
   "metadata": {},
   "outputs": [
    {
     "ename": "KeyError",
     "evalue": "'marital_status'",
     "output_type": "error",
     "traceback": [
      "\u001b[1;31m---------------------------------------------------------------------------\u001b[0m",
      "\u001b[1;31mKeyError\u001b[0m                                  Traceback (most recent call last)",
      "Cell \u001b[1;32mIn[17], line 2\u001b[0m\n\u001b[0;32m      1\u001b[0m \u001b[39m#10\u001b[39;00m\n\u001b[1;32m----> 2\u001b[0m student_dictionary\u001b[39m.\u001b[39;49mpop(\u001b[39m\"\u001b[39;49m\u001b[39mmarital_status\u001b[39;49m\u001b[39m\"\u001b[39;49m)\n",
      "\u001b[1;31mKeyError\u001b[0m: 'marital_status'"
     ]
    }
   ],
   "source": [
    "#10\n",
    "student_dictionary.pop(\"marital_status\")\n"
   ]
  },
  {
   "cell_type": "code",
   "execution_count": 12,
   "metadata": {},
   "outputs": [],
   "source": [
    "#11\n",
    "del dog"
   ]
  },
  {
   "cell_type": "code",
   "execution_count": null,
   "metadata": {},
   "outputs": [],
   "source": []
  }
 ],
 "metadata": {
  "kernelspec": {
   "display_name": "Arewads",
   "language": "python",
   "name": "python3"
  },
  "language_info": {
   "codemirror_mode": {
    "name": "ipython",
    "version": 3
   },
   "file_extension": ".py",
   "mimetype": "text/x-python",
   "name": "python",
   "nbconvert_exporter": "python",
   "pygments_lexer": "ipython3",
   "version": "3.10.9"
  },
  "orig_nbformat": 4,
  "vscode": {
   "interpreter": {
    "hash": "ce4ab39d237ab020d1f66999490bb71f6e444211230b10a68dfb7657e2ce5ad4"
   }
  }
 },
 "nbformat": 4,
 "nbformat_minor": 2
}
