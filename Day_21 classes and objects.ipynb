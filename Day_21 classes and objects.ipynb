{
 "cells": [
  {
   "attachments": {},
   "cell_type": "markdown",
   "metadata": {},
   "source": [
    "Day 21"
   ]
  },
  {
   "cell_type": "code",
   "execution_count": 9,
   "metadata": {},
   "outputs": [
    {
     "name": "stdout",
     "output_type": "stream",
     "text": [
      "Count: 25\n",
      "Sum:  744\n",
      "Min:  24\n",
      "Max:  38\n",
      "Range:  14\n",
      "Mean:  29.76\n",
      "Median:  29\n",
      "Mode:  (26, 5)\n",
      "Variance:  18.273333333333333\n",
      "Standard Deviation:  4.2747319604079665\n",
      "Frequency Distribution:  [(5, 26), (4, 27), (3, 32), (2, 37), (2, 34), (2, 33), (2, 31), (2, 24), (1, 38), (1, 29), (1, 25)]\n"
     ]
    }
   ],
   "source": [
    "#1\n",
    "import statistics as stats\n",
    "\n",
    "class Statistics:\n",
    "    def __init__(self, data):\n",
    "        self.data = data\n",
    "\n",
    "    def count(self):\n",
    "        return len(self.data)\n",
    "\n",
    "    def sum(self):\n",
    "        return sum(self.data)\n",
    "\n",
    "    def min(self):\n",
    "        return min(self.data)\n",
    "\n",
    "    def max(self):\n",
    "        return max(self.data)\n",
    "\n",
    "    def range(self):\n",
    "        return self.max() - self.min()\n",
    "\n",
    "    def mean(self):\n",
    "        return stats.mean(self.data)\n",
    "\n",
    "    def median(self):\n",
    "        return stats.median(self.data)\n",
    "\n",
    "    def mode(self):\n",
    "        mode = stats.mode(self.data)\n",
    "        count = self.data.count(mode)\n",
    "        return (mode, count)\n",
    "\n",
    "    def var(self):\n",
    "        return stats.variance(self.data)\n",
    "\n",
    "    def std(self):\n",
    "        return stats.stdev(self.data)\n",
    "\n",
    "    def freq_dist(self):\n",
    "        frequency_dict = {}\n",
    "        for i in self.data:\n",
    "            if i in frequency_dict:\n",
    "                frequency_dict[i] += 1\n",
    "            else:\n",
    "                frequency_dict[i] = 1\n",
    "        \n",
    "        frequency_list = [(value, key) for key, value in frequency_dict.items()]\n",
    "        frequency_list.sort(reverse=True)\n",
    "        return frequency_list\n",
    "\n",
    "    def describe(self):\n",
    "        print('Count:', self.count())\n",
    "        print('Sum: ', self.sum())\n",
    "        print('Min: ', self.min())\n",
    "        print('Max: ', self.max())\n",
    "        print('Range: ', self.range())\n",
    "        print('Mean: ', self.mean())\n",
    "        print('Median: ', self.median())\n",
    "        print('Mode: ', self.mode())\n",
    "        print('Variance: ', self.var())\n",
    "        print('Standard Deviation: ', self.std())\n",
    "        print('Frequency Distribution: ', self.freq_dist())\n",
    "ages = [31, 26, 34, 37, 27, 26, 32, 32, 26, 27, 27, 24, 32, 33, 27, 25, 26, 38, 37, 31, 34, 24, 33, 29, 26]\n",
    "data = Statistics(ages)\n",
    "data.describe()\n",
    "\n",
    "\n"
   ]
  },
  {
   "cell_type": "code",
   "execution_count": 4,
   "metadata": {},
   "outputs": [
    {
     "name": "stdout",
     "output_type": "stream",
     "text": [
      "First name:  Faridah\n",
      "Last name:  Yusuf\n",
      "Incomes:  [(600000000, 'salary'), (90000, 'bonus')]\n",
      "Expenses:  [(1000, 'books'), (12000, 'fuel')]\n",
      "Total Income:  600090000\n",
      "Total Expense:  13000\n",
      "Account Balance:  600077000\n"
     ]
    }
   ],
   "source": [
    "#2\n",
    "class PersonAccount:\n",
    "    '''A class to calculate incomes and expenses of persons'''\n",
    "    def __init__(self, firstname, lastname):\n",
    "        self.firstname = firstname\n",
    "        self.lastname = lastname\n",
    "        self.incomes = []\n",
    "        self.expenses = []\n",
    "\n",
    "    def add_income(self, amount, description):\n",
    "        self.incomes.append((amount, description))\n",
    "    def add_expense(self, amount, description):\n",
    "        self.expenses.append((amount, description))\n",
    "    def total_income(self):\n",
    "        total = 0\n",
    "        for income in self.incomes:\n",
    "            total += income[0]\n",
    "        return total\n",
    "\n",
    "    def total_expense(self):\n",
    "        total = 0\n",
    "        for expense in self.expenses:\n",
    "            total += expense[0]\n",
    "        return total\n",
    "\n",
    "    def account_balance(self):\n",
    "        return self.total_income() - self.total_expense()\n",
    "    def account_info(self):\n",
    "        print(\"First name: \", self.firstname)\n",
    "        print(\"Last name: \", self.lastname)\n",
    "        print(\"Incomes: \", self.incomes)\n",
    "        print(\"Expenses: \", self.expenses)\n",
    "        print(\"Total Income: \", self.total_income())\n",
    "        print(\"Total Expense: \", self.total_expense())\n",
    "        print(\"Account Balance: \", self.account_balance())\n",
    "\n",
    "\n",
    "account = PersonAccount(\"Faridah\", \"Yusuf\")\n",
    "\n",
    "account.add_income(600_000_000, \"salary\")\n",
    "account.add_income(90_000, \"bonus\")\n",
    "\n",
    "account.add_expense(1_000, \"books\")\n",
    "account.add_expense(12_000, \"fuel\")\n",
    "\n",
    "account.account_info()"
   ]
  }
 ],
 "metadata": {
  "kernelspec": {
   "display_name": "Arewads",
   "language": "python",
   "name": "python3"
  },
  "language_info": {
   "codemirror_mode": {
    "name": "ipython",
    "version": 3
   },
   "file_extension": ".py",
   "mimetype": "text/x-python",
   "name": "python",
   "nbconvert_exporter": "python",
   "pygments_lexer": "ipython3",
   "version": "3.10.9"
  },
  "orig_nbformat": 4,
  "vscode": {
   "interpreter": {
    "hash": "ce4ab39d237ab020d1f66999490bb71f6e444211230b10a68dfb7657e2ce5ad4"
   }
  }
 },
 "nbformat": 4,
 "nbformat_minor": 2
}
